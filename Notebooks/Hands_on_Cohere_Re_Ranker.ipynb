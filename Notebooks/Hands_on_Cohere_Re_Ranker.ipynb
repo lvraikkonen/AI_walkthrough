{
  "cells": [
    {
      "cell_type": "code",
      "execution_count": null,
      "metadata": {
        "id": "YZ5lRQ1Z7XZp"
      },
      "outputs": [],
      "source": [
        "!pip install -qU langchain openai cohere faiss-cpu tiktoken pypdf sentence_transformers\n",
        "!pip install -qU python-dotenv"
      ]
    },
    {
      "cell_type": "code",
      "execution_count": null,
      "metadata": {
        "id": "IWZML4Dy7z6z"
      },
      "outputs": [],
      "source": [
        "import os\n",
        "import openai\n",
        "#\n",
        "from langchain.text_splitter import RecursiveCharacterTextSplitter\n",
        "from langchain.embeddings import OpenAIEmbeddings\n",
        "from langchain.document_loaders import TextLoader\n",
        "from langchain.vectorstores import FAISS\n",
        "from langchain.document_loaders.pdf import PyPDFDirectoryLoader\n",
        "from langchain.embeddings import HuggingFaceBgeEmbeddings\n",
        "from langchain.chains import RetrievalQA\n",
        "from langchain.chat_models import ChatOpenAI\n",
        "from langchain.retrievers import ContextualCompressionRetriever\n",
        "from langchain.retrievers.document_compressors import CohereRerank"
      ]
    },
    {
      "cell_type": "code",
      "execution_count": null,
      "metadata": {
        "id": "mBmCtT9G72iZ"
      },
      "outputs": [],
      "source": [
        "## API keys\n",
        "# from dotenv import load_dotenv\n",
        "# load_dotenv()\n",
        "\n",
        "# openai_api_key = os.getenv(\"OPENAI_API_KEY\")\n",
        "# cohere_api_key = os.environ[\"COHERE_API_KEY\"]\n",
        "# huggingface_api_key = os.environ[\"HUGGINGFACE_API_KEY\"]\n",
        "\n",
        "# helper functions\n",
        "def pretty_print_docs(docs):\n",
        "    print(\n",
        "        f\"\\n{'-' * 100}\\n\".join(\n",
        "            [f\"Document {i+1}:\\n\\n\" + d.page_content for i, d in enumerate(docs)]\n",
        "        )\n",
        "    )"
      ]
    },
    {
      "cell_type": "code",
      "execution_count": null,
      "metadata": {
        "colab": {
          "base_uri": "https://localhost:8080/"
        },
        "id": "koZ0zPjO8lbV",
        "outputId": "fb79a120-9384-4527-81cf-305bde467824"
      },
      "outputs": [
        {
          "name": "stdout",
          "output_type": "stream",
          "text": [
            "/bin/bash: -c: line 1: syntax error near unexpected token `\"Documenation\"'\n",
            "/bin/bash: -c: line 1: `mkdir(\"Documenation\")'\n"
          ]
        }
      ],
      "source": [
        "!mkdir(\"Documenation\")"
      ]
    },
    {
      "cell_type": "markdown",
      "metadata": {
        "id": "yiOSUSFS-eev"
      },
      "source": [
        "### Load the PDF"
      ]
    },
    {
      "cell_type": "code",
      "execution_count": null,
      "metadata": {
        "id": "ZLqupVW6-hyH"
      },
      "outputs": [],
      "source": [
        "pdf_folder_path = \"/content/Documenation\"\n",
        "loader = PyPDFDirectoryLoader(pdf_folder_path)\n",
        "docs = loader.load()\n",
        "#\n",
        "print(len(docs))\n",
        "#\n",
        "print(docs[1].page_content)"
      ]
    },
    {
      "cell_type": "markdown",
      "metadata": {
        "id": "VSOfPwd5-mDW"
      },
      "source": [
        "### Split the documents into smaller chunks"
      ]
    },
    {
      "cell_type": "code",
      "execution_count": null,
      "metadata": {
        "id": "LnghtO08-nVu"
      },
      "outputs": [],
      "source": [
        "text_splitter = RecursiveCharacterTextSplitter(chunk_size=500, chunk_overlap=100)\n",
        "texts = text_splitter.split_documents(docs)\n",
        "print(len(texts))"
      ]
    },
    {
      "cell_type": "markdown",
      "metadata": {
        "id": "wGEshmYU-q_a"
      },
      "source": [
        "### Define Embeddings Model"
      ]
    },
    {
      "cell_type": "code",
      "execution_count": null,
      "metadata": {
        "id": "gM1_iSau-skq"
      },
      "outputs": [],
      "source": [
        "model_name = \"BAAI/bge-small-en-v1.5\"\n",
        "encode_kwargs = {'normalize_embeddings': True} # set True to compute cosine similarity\n",
        "\n",
        "embeddings = HuggingFaceBgeEmbeddings(\n",
        "    model_name=model_name,\n",
        "    model_kwargs={'device': 'cpu'},\n",
        "    encode_kwargs=encode_kwargs\n",
        ")"
      ]
    }
  ],
  "metadata": {
    "colab": {
      "provenance": []
    },
    "kernelspec": {
      "display_name": "Python 3",
      "name": "python3"
    },
    "language_info": {
      "name": "python"
    }
  },
  "nbformat": 4,
  "nbformat_minor": 0
}
