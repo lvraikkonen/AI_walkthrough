{
  "nbformat": 4,
  "nbformat_minor": 0,
  "metadata": {
    "colab": {
      "provenance": []
    },
    "kernelspec": {
      "name": "python3",
      "display_name": "Python 3"
    },
    "language_info": {
      "name": "python"
    }
  },
  "cells": [
    {
      "cell_type": "code",
      "execution_count": null,
      "metadata": {
        "id": "J-UFHgdM6GV_"
      },
      "outputs": [],
      "source": []
    },
    {
      "cell_type": "markdown",
      "source": [
        "## Workflow Steps\n",
        "Read in your .csv files into Pandas DataFrame object.\n",
        "Create InMemory SQLite powered Sqlalchemy engine.\n",
        "Cast Pandas DataFrame object to SQL Engine.\n",
        "Create an SQL Database object through Llama Index.\n",
        "Use the SQL Database object to create a Query Engine Tool that we can interact through text-to-SQL capabilities (NLSQLTableQueryEngine)."
      ],
      "metadata": {
        "id": "psV9LR-s7Zy_"
      }
    },
    {
      "cell_type": "code",
      "source": [
        "!pip install -qU llama_index sqlalchemy pandas\n",
        "!pip install openai"
      ],
      "metadata": {
        "id": "C2W5d37E7flE"
      },
      "execution_count": null,
      "outputs": []
    },
    {
      "cell_type": "code",
      "source": [
        "from google.colab import userdata\n",
        "import openai\n",
        "import os\n",
        "#\n",
        "from sqlalchemy import create_engine\n",
        "from llama_index import SQLDatabase\n",
        "from llama_index.llms import OpenAI\n",
        "from llama_index.embeddings import OpenAIEmbedding\n",
        "from llama_index import ServiceContext\n",
        "from llama_index.indices.struct_store.sql_query import NLSQLTableQueryEngine\n",
        "from llama_index.tools.query_engine import QueryEngineTool\n",
        "from llama_index.agent import OpenAIAgent\n",
        "\n",
        "os.environ['OPENAI_API_KEY'] = userdata.get('OPENAI_API_KEY')\n",
        "openai_api_key = userdata.get('OPENAI_API_KEY')"
      ],
      "metadata": {
        "id": "Qhvk_OiR7jnN"
      },
      "execution_count": 2,
      "outputs": []
    },
    {
      "cell_type": "markdown",
      "source": [
        "## Load CSV file to pandas DataFrame"
      ],
      "metadata": {
        "id": "P6IMQ9B37pJL"
      }
    },
    {
      "cell_type": "code",
      "source": [
        "df = pd.read_csv(\"/content/BA_AirlineReviews.csv\")\n",
        "df.head()"
      ],
      "metadata": {
        "id": "zeqYegcz7wkw"
      },
      "execution_count": null,
      "outputs": []
    },
    {
      "cell_type": "code",
      "source": [
        "# Drop the unwanted columns\n",
        "df = df.drop(columns=['Unnamed: 0'])\n",
        "df.head()"
      ],
      "metadata": {
        "id": "EN_aOKb57zFn"
      },
      "execution_count": null,
      "outputs": []
    },
    {
      "cell_type": "code",
      "source": [
        "# Check the % of null values with each column attribute\n",
        "df.isnull().sum()[df.isnull().sum() > 0] / len(df) * 100.0"
      ],
      "metadata": {
        "id": "adoq1OiK734L"
      },
      "execution_count": null,
      "outputs": []
    },
    {
      "cell_type": "code",
      "source": [
        "temp = df.dropna()"
      ],
      "metadata": {
        "id": "gJ5stzzN797n"
      },
      "execution_count": null,
      "outputs": []
    },
    {
      "cell_type": "code",
      "source": [
        "engine = create_engine('sqlite://', echo=False)\n",
        "temp.to_sql('reviews', con=engine)"
      ],
      "metadata": {
        "id": "a5ivLXsm8AkB"
      },
      "execution_count": null,
      "outputs": []
    },
    {
      "cell_type": "markdown",
      "source": [
        "## Construct a SQLDatabase Index"
      ],
      "metadata": {
        "id": "KUPu8e7I8ETX"
      }
    },
    {
      "cell_type": "code",
      "source": [
        "reviews_db = SQLDatabase(engine,include_tables=['reviews'])"
      ],
      "metadata": {
        "id": "XoRNoP5d8FUo"
      },
      "execution_count": null,
      "outputs": []
    },
    {
      "cell_type": "code",
      "source": [],
      "metadata": {
        "id": "2Khg6PKr8K-Q"
      },
      "execution_count": null,
      "outputs": []
    },
    {
      "cell_type": "markdown",
      "source": [
        "## Instantiate the LLM and ServieContext"
      ],
      "metadata": {
        "id": "8vq2DKf48Mcb"
      }
    },
    {
      "cell_type": "code",
      "source": [
        "llm = OpenAI(model_name=\"gpt-4-0613\",\n",
        "             temperature=0,\n",
        "             streaming=True)\n",
        "embedding = OpenAIEmbedding()\n",
        "#\n",
        "servicecontext = ServiceContext.from_defaults(llm=llm,\n",
        "                        embed_model=embedding,\n",
        "                        chunk_size=500)"
      ],
      "metadata": {
        "id": "gGYdKRy-8P-k"
      },
      "execution_count": null,
      "outputs": []
    },
    {
      "cell_type": "markdown",
      "source": [
        "use `NLSQLTableQueryEngine` to construct natural language queries that are synthesized into SQL queries"
      ],
      "metadata": {
        "id": "CygD8cPs8bxJ"
      }
    },
    {
      "cell_type": "code",
      "source": [
        "sql_query_engine = NLSQLTableQueryEngine(sql_database=reviews_db,\n",
        "                      tables=['reviews'],\n",
        "                      service_context=servicecontext)\n",
        "description = (\"Provides information about airlines reviews from reviews table. \"\n",
        "                \"Use a detailed plain text question as input to the tool.\")"
      ],
      "metadata": {
        "id": "cO4wQGC18g5q"
      },
      "execution_count": null,
      "outputs": []
    },
    {
      "cell_type": "markdown",
      "source": [
        "### Wrap all the details into QueryEngineTool"
      ],
      "metadata": {
        "id": "hRZDj1Gh8p8W"
      }
    },
    {
      "cell_type": "code",
      "source": [
        "sql_tool = QueryEngineTool.from_defaults(query_engine=sql_query_engine,\n",
        "                      name=\"sql_query\",\n",
        "                      description=description)\n",
        "#\n",
        "agent = OpenAIAgent.from_tools(tools=[sql_tool],verbose=True)"
      ],
      "metadata": {
        "id": "apdvN3Ok8s3o"
      },
      "execution_count": null,
      "outputs": []
    },
    {
      "cell_type": "markdown",
      "source": [
        "### Generate the response"
      ],
      "metadata": {
        "id": "-NStEjxU8zS8"
      }
    },
    {
      "cell_type": "code",
      "source": [
        "## Question 1\n",
        "response = agent.chat(\"What are the top 10 bad ReviewBody?\")"
      ],
      "metadata": {
        "id": "wp024fmC84Wf"
      },
      "execution_count": null,
      "outputs": []
    },
    {
      "cell_type": "code",
      "source": [
        "## Question 2\n",
        "sql_tool = QueryEngineTool.from_defaults(query_engine=sql_query_engine,\n",
        "                     name=\"sql_query\",\n",
        "                     description=description)\n",
        "#\n",
        "agent = OpenAIAgent.from_tools(tools=[sql_tool],verbose=True)\n",
        "#\n",
        "response = agent.chat(\"What is the highest overall rating provided by travellers?\")"
      ],
      "metadata": {
        "id": "TXhRxQzd88mZ"
      },
      "execution_count": null,
      "outputs": []
    }
  ]
}