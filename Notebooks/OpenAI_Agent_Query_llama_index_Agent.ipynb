{
  "nbformat": 4,
  "nbformat_minor": 0,
  "metadata": {
    "colab": {
      "provenance": []
    },
    "kernelspec": {
      "name": "python3",
      "display_name": "Python 3"
    },
    "language_info": {
      "name": "python"
    },
    "widgets": {
      "application/vnd.jupyter.widget-state+json": {
        "9e49249034b244d9ac1a2db136f39c94": {
          "model_module": "@jupyter-widgets/controls",
          "model_name": "HBoxModel",
          "model_module_version": "1.5.0",
          "state": {
            "_dom_classes": [],
            "_model_module": "@jupyter-widgets/controls",
            "_model_module_version": "1.5.0",
            "_model_name": "HBoxModel",
            "_view_count": null,
            "_view_module": "@jupyter-widgets/controls",
            "_view_module_version": "1.5.0",
            "_view_name": "HBoxView",
            "box_style": "",
            "children": [
              "IPY_MODEL_dba1d6a9b5e144f3a021d1669c8ffdea",
              "IPY_MODEL_f561df6aaca8467395b39f373c006072",
              "IPY_MODEL_866c58eb441e498eb0cc2c704a189204"
            ],
            "layout": "IPY_MODEL_01ea9e50677846d98dee259679d7bb11"
          }
        },
        "dba1d6a9b5e144f3a021d1669c8ffdea": {
          "model_module": "@jupyter-widgets/controls",
          "model_name": "HTMLModel",
          "model_module_version": "1.5.0",
          "state": {
            "_dom_classes": [],
            "_model_module": "@jupyter-widgets/controls",
            "_model_module_version": "1.5.0",
            "_model_name": "HTMLModel",
            "_view_count": null,
            "_view_module": "@jupyter-widgets/controls",
            "_view_module_version": "1.5.0",
            "_view_name": "HTMLView",
            "description": "",
            "description_tooltip": null,
            "layout": "IPY_MODEL_08cedffade7c4fe3bb626e6514e4e0f8",
            "placeholder": "​",
            "style": "IPY_MODEL_c7ce14ae0cf04761af510c2b7978a315",
            "value": "Upserted vectors: 100%"
          }
        },
        "f561df6aaca8467395b39f373c006072": {
          "model_module": "@jupyter-widgets/controls",
          "model_name": "FloatProgressModel",
          "model_module_version": "1.5.0",
          "state": {
            "_dom_classes": [],
            "_model_module": "@jupyter-widgets/controls",
            "_model_module_version": "1.5.0",
            "_model_name": "FloatProgressModel",
            "_view_count": null,
            "_view_module": "@jupyter-widgets/controls",
            "_view_module_version": "1.5.0",
            "_view_name": "ProgressView",
            "bar_style": "success",
            "description": "",
            "description_tooltip": null,
            "layout": "IPY_MODEL_7ac2c512c4b94c50ad67bcea176b03c4",
            "max": 5,
            "min": 0,
            "orientation": "horizontal",
            "style": "IPY_MODEL_a17543ceff6a4697b87071cb45939865",
            "value": 5
          }
        },
        "866c58eb441e498eb0cc2c704a189204": {
          "model_module": "@jupyter-widgets/controls",
          "model_name": "HTMLModel",
          "model_module_version": "1.5.0",
          "state": {
            "_dom_classes": [],
            "_model_module": "@jupyter-widgets/controls",
            "_model_module_version": "1.5.0",
            "_model_name": "HTMLModel",
            "_view_count": null,
            "_view_module": "@jupyter-widgets/controls",
            "_view_module_version": "1.5.0",
            "_view_name": "HTMLView",
            "description": "",
            "description_tooltip": null,
            "layout": "IPY_MODEL_feeafa5b428b43f3acdf15d64a52cd29",
            "placeholder": "​",
            "style": "IPY_MODEL_25c109d712cc456ea49541c4a782f89d",
            "value": " 5/5 [01:48&lt;00:00,  8.67it/s]"
          }
        },
        "01ea9e50677846d98dee259679d7bb11": {
          "model_module": "@jupyter-widgets/base",
          "model_name": "LayoutModel",
          "model_module_version": "1.2.0",
          "state": {
            "_model_module": "@jupyter-widgets/base",
            "_model_module_version": "1.2.0",
            "_model_name": "LayoutModel",
            "_view_count": null,
            "_view_module": "@jupyter-widgets/base",
            "_view_module_version": "1.2.0",
            "_view_name": "LayoutView",
            "align_content": null,
            "align_items": null,
            "align_self": null,
            "border": null,
            "bottom": null,
            "display": null,
            "flex": null,
            "flex_flow": null,
            "grid_area": null,
            "grid_auto_columns": null,
            "grid_auto_flow": null,
            "grid_auto_rows": null,
            "grid_column": null,
            "grid_gap": null,
            "grid_row": null,
            "grid_template_areas": null,
            "grid_template_columns": null,
            "grid_template_rows": null,
            "height": null,
            "justify_content": null,
            "justify_items": null,
            "left": null,
            "margin": null,
            "max_height": null,
            "max_width": null,
            "min_height": null,
            "min_width": null,
            "object_fit": null,
            "object_position": null,
            "order": null,
            "overflow": null,
            "overflow_x": null,
            "overflow_y": null,
            "padding": null,
            "right": null,
            "top": null,
            "visibility": null,
            "width": null
          }
        },
        "08cedffade7c4fe3bb626e6514e4e0f8": {
          "model_module": "@jupyter-widgets/base",
          "model_name": "LayoutModel",
          "model_module_version": "1.2.0",
          "state": {
            "_model_module": "@jupyter-widgets/base",
            "_model_module_version": "1.2.0",
            "_model_name": "LayoutModel",
            "_view_count": null,
            "_view_module": "@jupyter-widgets/base",
            "_view_module_version": "1.2.0",
            "_view_name": "LayoutView",
            "align_content": null,
            "align_items": null,
            "align_self": null,
            "border": null,
            "bottom": null,
            "display": null,
            "flex": null,
            "flex_flow": null,
            "grid_area": null,
            "grid_auto_columns": null,
            "grid_auto_flow": null,
            "grid_auto_rows": null,
            "grid_column": null,
            "grid_gap": null,
            "grid_row": null,
            "grid_template_areas": null,
            "grid_template_columns": null,
            "grid_template_rows": null,
            "height": null,
            "justify_content": null,
            "justify_items": null,
            "left": null,
            "margin": null,
            "max_height": null,
            "max_width": null,
            "min_height": null,
            "min_width": null,
            "object_fit": null,
            "object_position": null,
            "order": null,
            "overflow": null,
            "overflow_x": null,
            "overflow_y": null,
            "padding": null,
            "right": null,
            "top": null,
            "visibility": null,
            "width": null
          }
        },
        "c7ce14ae0cf04761af510c2b7978a315": {
          "model_module": "@jupyter-widgets/controls",
          "model_name": "DescriptionStyleModel",
          "model_module_version": "1.5.0",
          "state": {
            "_model_module": "@jupyter-widgets/controls",
            "_model_module_version": "1.5.0",
            "_model_name": "DescriptionStyleModel",
            "_view_count": null,
            "_view_module": "@jupyter-widgets/base",
            "_view_module_version": "1.2.0",
            "_view_name": "StyleView",
            "description_width": ""
          }
        },
        "7ac2c512c4b94c50ad67bcea176b03c4": {
          "model_module": "@jupyter-widgets/base",
          "model_name": "LayoutModel",
          "model_module_version": "1.2.0",
          "state": {
            "_model_module": "@jupyter-widgets/base",
            "_model_module_version": "1.2.0",
            "_model_name": "LayoutModel",
            "_view_count": null,
            "_view_module": "@jupyter-widgets/base",
            "_view_module_version": "1.2.0",
            "_view_name": "LayoutView",
            "align_content": null,
            "align_items": null,
            "align_self": null,
            "border": null,
            "bottom": null,
            "display": null,
            "flex": null,
            "flex_flow": null,
            "grid_area": null,
            "grid_auto_columns": null,
            "grid_auto_flow": null,
            "grid_auto_rows": null,
            "grid_column": null,
            "grid_gap": null,
            "grid_row": null,
            "grid_template_areas": null,
            "grid_template_columns": null,
            "grid_template_rows": null,
            "height": null,
            "justify_content": null,
            "justify_items": null,
            "left": null,
            "margin": null,
            "max_height": null,
            "max_width": null,
            "min_height": null,
            "min_width": null,
            "object_fit": null,
            "object_position": null,
            "order": null,
            "overflow": null,
            "overflow_x": null,
            "overflow_y": null,
            "padding": null,
            "right": null,
            "top": null,
            "visibility": null,
            "width": null
          }
        },
        "a17543ceff6a4697b87071cb45939865": {
          "model_module": "@jupyter-widgets/controls",
          "model_name": "ProgressStyleModel",
          "model_module_version": "1.5.0",
          "state": {
            "_model_module": "@jupyter-widgets/controls",
            "_model_module_version": "1.5.0",
            "_model_name": "ProgressStyleModel",
            "_view_count": null,
            "_view_module": "@jupyter-widgets/base",
            "_view_module_version": "1.2.0",
            "_view_name": "StyleView",
            "bar_color": null,
            "description_width": ""
          }
        },
        "feeafa5b428b43f3acdf15d64a52cd29": {
          "model_module": "@jupyter-widgets/base",
          "model_name": "LayoutModel",
          "model_module_version": "1.2.0",
          "state": {
            "_model_module": "@jupyter-widgets/base",
            "_model_module_version": "1.2.0",
            "_model_name": "LayoutModel",
            "_view_count": null,
            "_view_module": "@jupyter-widgets/base",
            "_view_module_version": "1.2.0",
            "_view_name": "LayoutView",
            "align_content": null,
            "align_items": null,
            "align_self": null,
            "border": null,
            "bottom": null,
            "display": null,
            "flex": null,
            "flex_flow": null,
            "grid_area": null,
            "grid_auto_columns": null,
            "grid_auto_flow": null,
            "grid_auto_rows": null,
            "grid_column": null,
            "grid_gap": null,
            "grid_row": null,
            "grid_template_areas": null,
            "grid_template_columns": null,
            "grid_template_rows": null,
            "height": null,
            "justify_content": null,
            "justify_items": null,
            "left": null,
            "margin": null,
            "max_height": null,
            "max_width": null,
            "min_height": null,
            "min_width": null,
            "object_fit": null,
            "object_position": null,
            "order": null,
            "overflow": null,
            "overflow_x": null,
            "overflow_y": null,
            "padding": null,
            "right": null,
            "top": null,
            "visibility": null,
            "width": null
          }
        },
        "25c109d712cc456ea49541c4a782f89d": {
          "model_module": "@jupyter-widgets/controls",
          "model_name": "DescriptionStyleModel",
          "model_module_version": "1.5.0",
          "state": {
            "_model_module": "@jupyter-widgets/controls",
            "_model_module_version": "1.5.0",
            "_model_name": "DescriptionStyleModel",
            "_view_count": null,
            "_view_module": "@jupyter-widgets/base",
            "_view_module_version": "1.2.0",
            "_view_name": "StyleView",
            "description_width": ""
          }
        }
      }
    }
  },
  "cells": [
    {
      "cell_type": "markdown",
      "source": [
        "LLM to infer the right query parameters for a vector database - including both the query string and metadata filter."
      ],
      "metadata": {
        "id": "fG7vj6vmKEtg"
      }
    },
    {
      "cell_type": "markdown",
      "source": [
        "## AutoRetrieval"
      ],
      "metadata": {
        "id": "o-3_mgGxKJTn"
      }
    },
    {
      "cell_type": "code",
      "source": [
        "!pip install llama-index pinecone-client"
      ],
      "metadata": {
        "id": "EA4LhPVnKLCw"
      },
      "execution_count": null,
      "outputs": []
    },
    {
      "cell_type": "code",
      "source": [
        "import pinecone\n",
        "import openai\n",
        "import os\n",
        "import getpass\n",
        "from google.colab import userdata\n",
        "from tqdm.autonotebook import tqdm\n",
        "\n",
        "os.environ[\"OPENAI_API_KEY\"] = userdata.get('OPENAI_API_KEY')\n",
        "os.environ[\"PINECONE_API_KEY\"] = userdata.get('PINECONE_API_KEY')\n",
        "\n",
        "openai_api_key = os.environ[\"OPENAI_API_KEY\"]\n",
        "pinecone_api_key = os.environ[\"PINECONE_API_KEY\"]\n",
        "\n",
        "pinecone.init(api_key=pinecone_api_key, environment=\"gcp-starter\")"
      ],
      "metadata": {
        "colab": {
          "base_uri": "https://localhost:8080/"
        },
        "id": "GhSv6GUsKVGh",
        "outputId": "5f3fe3e5-d704-49c8-f407-7aa5f8217cda"
      },
      "execution_count": 2,
      "outputs": [
        {
          "output_type": "stream",
          "name": "stderr",
          "text": [
            "/usr/local/lib/python3.10/dist-packages/pinecone/index.py:4: TqdmExperimentalWarning: Using `tqdm.autonotebook.tqdm` in notebook mode. Use `tqdm.tqdm` instead to force console mode (e.g. in jupyter console)\n",
            "  from tqdm.autonotebook import tqdm\n"
          ]
        }
      ]
    },
    {
      "cell_type": "code",
      "source": [
        "# try to create index\n",
        "# dimensions are for text-embedding-ada-002\n",
        "try:\n",
        "    pinecone.create_index(\n",
        "        \"quickstart-index\", dimension=1536, metric=\"cosine\"\n",
        "    )\n",
        "except Exception:\n",
        "    # most likely index already exists\n",
        "    pass"
      ],
      "metadata": {
        "id": "8S_xbgZzMmpL"
      },
      "execution_count": 3,
      "outputs": []
    },
    {
      "cell_type": "code",
      "source": [
        "pinecone_index = pinecone.Index(\"quickstart-index\")"
      ],
      "metadata": {
        "id": "fh0VG2bxM8NQ"
      },
      "execution_count": 4,
      "outputs": []
    },
    {
      "cell_type": "code",
      "source": [
        "from llama_index import VectorStoreIndex, StorageContext\n",
        "from llama_index.vector_stores import PineconeVectorStore"
      ],
      "metadata": {
        "id": "hAhYMN_TNk76"
      },
      "execution_count": 5,
      "outputs": []
    },
    {
      "cell_type": "code",
      "source": [
        "from llama_index.schema import TextNode\n",
        "\n",
        "nodes = [\n",
        "    TextNode(\n",
        "        text=(\n",
        "            \"Michael Jordan is a retired professional basketball player,\"\n",
        "            \" widely regarded as one of the greatest basketball players of all\"\n",
        "            \" time.\"\n",
        "        ),\n",
        "        metadata={\n",
        "            \"category\": \"Sports\",\n",
        "            \"country\": \"United States\",\n",
        "            \"gender\": \"male\",\n",
        "            \"born\": 1963,\n",
        "        },\n",
        "    ),\n",
        "    TextNode(\n",
        "        text=(\n",
        "            \"Angelina Jolie is an American actress, filmmaker, and\"\n",
        "            \" humanitarian. She has received numerous awards for her acting\"\n",
        "            \" and is known for her philanthropic work.\"\n",
        "        ),\n",
        "        metadata={\n",
        "            \"category\": \"Entertainment\",\n",
        "            \"country\": \"United States\",\n",
        "            \"gender\": \"female\",\n",
        "            \"born\": 1975,\n",
        "        },\n",
        "    ),\n",
        "    TextNode(\n",
        "        text=(\n",
        "            \"Elon Musk is a business magnate, industrial designer, and\"\n",
        "            \" engineer. He is the founder, CEO, and lead designer of SpaceX,\"\n",
        "            \" Tesla, Inc., Neuralink, and The Boring Company.\"\n",
        "        ),\n",
        "        metadata={\n",
        "            \"category\": \"Business\",\n",
        "            \"country\": \"United States\",\n",
        "            \"gender\": \"male\",\n",
        "            \"born\": 1971,\n",
        "        },\n",
        "    ),\n",
        "    TextNode(\n",
        "        text=(\n",
        "            \"Rihanna is a Barbadian singer, actress, and businesswoman. She\"\n",
        "            \" has achieved significant success in the music industry and is\"\n",
        "            \" known for her versatile musical style.\"\n",
        "        ),\n",
        "        metadata={\n",
        "            \"category\": \"Music\",\n",
        "            \"country\": \"Barbados\",\n",
        "            \"gender\": \"female\",\n",
        "            \"born\": 1988,\n",
        "        },\n",
        "    ),\n",
        "    TextNode(\n",
        "        text=(\n",
        "            \"Cristiano Ronaldo is a Portuguese professional footballer who is\"\n",
        "            \" considered one of the greatest football players of all time. He\"\n",
        "            \" has won numerous awards and set multiple records during his\"\n",
        "            \" career.\"\n",
        "        ),\n",
        "        metadata={\n",
        "            \"category\": \"Sports\",\n",
        "            \"country\": \"Portugal\",\n",
        "            \"gender\": \"male\",\n",
        "            \"born\": 1985,\n",
        "        },\n",
        "    ),\n",
        "]"
      ],
      "metadata": {
        "id": "GeghF1j7Nrgh"
      },
      "execution_count": 6,
      "outputs": []
    },
    {
      "cell_type": "code",
      "source": [
        "vector_store = PineconeVectorStore(\n",
        "    pinecone_index=pinecone_index, namespace=\"test\"\n",
        ")\n",
        "storage_context = StorageContext.from_defaults(vector_store=vector_store)\n",
        "index = VectorStoreIndex(nodes, storage_context=storage_context)"
      ],
      "metadata": {
        "colab": {
          "base_uri": "https://localhost:8080/",
          "height": 49,
          "referenced_widgets": [
            "9e49249034b244d9ac1a2db136f39c94",
            "dba1d6a9b5e144f3a021d1669c8ffdea",
            "f561df6aaca8467395b39f373c006072",
            "866c58eb441e498eb0cc2c704a189204",
            "01ea9e50677846d98dee259679d7bb11",
            "08cedffade7c4fe3bb626e6514e4e0f8",
            "c7ce14ae0cf04761af510c2b7978a315",
            "7ac2c512c4b94c50ad67bcea176b03c4",
            "a17543ceff6a4697b87071cb45939865",
            "feeafa5b428b43f3acdf15d64a52cd29",
            "25c109d712cc456ea49541c4a782f89d"
          ]
        },
        "id": "XfVgvEKbNzC5",
        "outputId": "20ac528c-99d7-4f60-9056-b099a7870d36"
      },
      "execution_count": 7,
      "outputs": [
        {
          "output_type": "display_data",
          "data": {
            "text/plain": [
              "Upserted vectors:   0%|          | 0/5 [00:00<?, ?it/s]"
            ],
            "application/vnd.jupyter.widget-view+json": {
              "version_major": 2,
              "version_minor": 0,
              "model_id": "9e49249034b244d9ac1a2db136f39c94"
            }
          },
          "metadata": {}
        }
      ]
    },
    {
      "cell_type": "markdown",
      "source": [
        "## Define Function Tool"
      ],
      "metadata": {
        "id": "wBnp4__yOupJ"
      }
    },
    {
      "cell_type": "code",
      "source": [
        "# define function tool\n",
        "from llama_index.tools import FunctionTool\n",
        "from llama_index.vector_stores.types import (\n",
        "    VectorStoreInfo,\n",
        "    MetadataInfo,\n",
        "    MetadataFilter,\n",
        "    MetadataFilters,\n",
        "    FilterCondition,\n",
        "    FilterOperator,\n",
        ")\n",
        "from llama_index.retrievers import VectorIndexRetriever\n",
        "from llama_index.query_engine import RetrieverQueryEngine\n",
        "\n",
        "from typing import List, Tuple, Any\n",
        "from pydantic import BaseModel, Field\n",
        "\n",
        "# hardcode top k for now\n",
        "top_k = 3\n",
        "\n",
        "# define vector store info describing schema of vector store\n",
        "vector_store_info = VectorStoreInfo(\n",
        "    content_info=\"brief biography of celebrities\",\n",
        "    metadata_info=[\n",
        "        MetadataInfo(\n",
        "            name=\"category\",\n",
        "            type=\"str\",\n",
        "            description=(\n",
        "                \"Category of the celebrity, one of [Sports, Entertainment,\"\n",
        "                \" Business, Music]\"\n",
        "            ),\n",
        "        ),\n",
        "        MetadataInfo(\n",
        "            name=\"country\",\n",
        "            type=\"str\",\n",
        "            description=(\n",
        "                \"Country of the celebrity, one of [United States, Barbados,\"\n",
        "                \" Portugal]\"\n",
        "            ),\n",
        "        ),\n",
        "        MetadataInfo(\n",
        "            name=\"gender\",\n",
        "            type=\"str\",\n",
        "            description=(\"Gender of the celebrity, one of [male, female]\"),\n",
        "        ),\n",
        "        MetadataInfo(\n",
        "            name=\"born\",\n",
        "            type=\"int\",\n",
        "            description=(\"Born year of the celebrity, could be any integer\"),\n",
        "        ),\n",
        "    ],\n",
        ")"
      ],
      "metadata": {
        "id": "pxjBG4-0O66H"
      },
      "execution_count": 8,
      "outputs": []
    },
    {
      "cell_type": "code",
      "source": [
        "vector_store_info.json()"
      ],
      "metadata": {
        "colab": {
          "base_uri": "https://localhost:8080/",
          "height": 105
        },
        "id": "awAUEz4JPygX",
        "outputId": "4f8f0b47-9584-42bd-ba9f-f656a3ddb81e"
      },
      "execution_count": 9,
      "outputs": [
        {
          "output_type": "execute_result",
          "data": {
            "text/plain": [
              "'{\"metadata_info\": [{\"name\": \"category\", \"type\": \"str\", \"description\": \"Category of the celebrity, one of [Sports, Entertainment, Business, Music]\"}, {\"name\": \"country\", \"type\": \"str\", \"description\": \"Country of the celebrity, one of [United States, Barbados, Portugal]\"}, {\"name\": \"gender\", \"type\": \"str\", \"description\": \"Gender of the celebrity, one of [male, female]\"}, {\"name\": \"born\", \"type\": \"int\", \"description\": \"Born year of the celebrity, could be any integer\"}], \"content_info\": \"brief biography of celebrities\"}'"
            ],
            "application/vnd.google.colaboratory.intrinsic+json": {
              "type": "string"
            }
          },
          "metadata": {},
          "execution_count": 9
        }
      ]
    },
    {
      "cell_type": "code",
      "source": [
        "# define pydantic model for auto-retrieval function\n",
        "class AutoRetrieveModel(BaseModel):\n",
        "    query: str = Field(..., description=\"natural language query string\")\n",
        "    filter_key_list: List[str] = Field(\n",
        "        ..., description=\"List of metadata filter field names\"\n",
        "    )\n",
        "    filter_value_list: List[Any] = Field(\n",
        "        ...,\n",
        "        description=(\n",
        "            \"List of metadata filter field values (corresponding to names\"\n",
        "            \" specified in filter_key_list)\"\n",
        "        ),\n",
        "    )\n",
        "    filter_operator_list: List[str] = Field(\n",
        "        ...,\n",
        "        description=(\n",
        "            \"Metadata filters conditions (could be one of <, <=, >, >=, ==, !=)\"\n",
        "        ),\n",
        "    )\n",
        "    filter_condition: str = Field(\n",
        "        ...,\n",
        "        description=(\"Metadata filters condition values (could be AND or OR)\"),\n",
        "    )\n",
        "\n",
        "\n",
        "description = f\"\"\"\\\n",
        "Use this tool to look up biographical information about celebrities.\n",
        "The vector database schema is given below:\n",
        "{vector_store_info.json()}\n",
        "\"\"\"\n",
        "\n",
        "def auto_retrieve_fn(\n",
        "    query: str,\n",
        "    filter_key_list: List[str],\n",
        "    filter_value_list: List[any],\n",
        "    filter_operator_list: List[str],\n",
        "    filter_condition: str,\n",
        "):\n",
        "    \"\"\"Auto retrieval function.\n",
        "\n",
        "    Performs auto-retrieval from a vector database, and then applies a set of filters.\n",
        "\n",
        "    \"\"\"\n",
        "    query = query or \"Query\"\n",
        "\n",
        "    metadata_filters = [\n",
        "        MetadataFilter(key=k, value=v, operator=op)\n",
        "        for k, v, op in zip(\n",
        "            filter_key_list, filter_value_list, filter_operator_list\n",
        "        )\n",
        "    ]\n",
        "    retriever = VectorIndexRetriever(\n",
        "        index,\n",
        "        filters=MetadataFilters(\n",
        "            filters=metadata_filters, condition=filter_condition\n",
        "        ),\n",
        "        top_k=top_k,\n",
        "    )\n",
        "    query_engine = RetrieverQueryEngine.from_args(retriever)\n",
        "\n",
        "    response = query_engine.query(query)\n",
        "    return str(response)\n",
        "\n",
        "\n",
        "auto_retrieve_tool = FunctionTool.from_defaults(\n",
        "    fn=auto_retrieve_fn,\n",
        "    name=\"celebrity_bios\",\n",
        "    description=description,\n",
        "    fn_schema=AutoRetrieveModel,\n",
        ")"
      ],
      "metadata": {
        "id": "km7U7vM2PiJ2"
      },
      "execution_count": 10,
      "outputs": []
    },
    {
      "cell_type": "markdown",
      "source": [
        "## Initialize Agent"
      ],
      "metadata": {
        "id": "a9md7U0cQFQG"
      }
    },
    {
      "cell_type": "code",
      "source": [
        "from llama_index.agent import OpenAIAgent\n",
        "from llama_index.llms import OpenAI\n",
        "\n",
        "agent = OpenAIAgent.from_tools(\n",
        "    [auto_retrieve_tool],\n",
        "    llm=OpenAI(api_key=openai_api_key , temperature=0, model=\"gpt-4-0613\"),\n",
        "    verbose=True,\n",
        ")"
      ],
      "metadata": {
        "id": "5umQR-vbQHa9"
      },
      "execution_count": null,
      "outputs": []
    },
    {
      "cell_type": "code",
      "source": [
        "response = agent.chat(\n",
        "    \"Tell me about few celebrities under category business and born after 1950. \"\n",
        ")\n",
        "print(str(response))"
      ],
      "metadata": {
        "colab": {
          "base_uri": "https://localhost:8080/"
        },
        "id": "v9aOFZaiRXwY",
        "outputId": "28f81ab2-3538-432b-dd4b-e9c20edae3d6"
      },
      "execution_count": 13,
      "outputs": [
        {
          "output_type": "stream",
          "name": "stdout",
          "text": [
            "Added user message to memory: Tell me about few celebrities under category business and born after 1950. \n",
            "=== Calling Function ===\n",
            "Calling function: celebrity_bios with args: {\n",
            "  \"query\": \"celebrities\",\n",
            "  \"filter_key_list\": [\"category\", \"born\"],\n",
            "  \"filter_value_list\": [\"Business\", 1950],\n",
            "  \"filter_operator_list\": [\"==\", \">\"],\n",
            "  \"filter_condition\": \"and\"\n",
            "}\n",
            "Got output: Elon Musk is a well-known figure in the business world. He has gained fame for his roles as the founder, CEO, and lead designer of several successful companies, including SpaceX, Tesla, Inc., Neuralink, and The Boring Company.\n",
            "========================\n",
            "\n",
            "Elon Musk is a prominent business celebrity who was born after 1950.\n",
            "\n",
            "Elon Musk, born in 1971, is a business magnate and investor. He is the founder, CEO, CTO, and chief designer of SpaceX; early investor, CEO and product architect of Tesla, Inc.; founder of The\n"
          ]
        }
      ]
    },
    {
      "cell_type": "code",
      "source": [
        "response = agent.chat(\"Tell me about two celebrities born after 1980. \")\n",
        "print(str(response))"
      ],
      "metadata": {
        "colab": {
          "base_uri": "https://localhost:8080/"
        },
        "id": "aSanvMI0RAOt",
        "outputId": "21775e49-c866-4ae5-adad-9eeba74b4bf2"
      },
      "execution_count": 12,
      "outputs": [
        {
          "output_type": "stream",
          "name": "stdout",
          "text": [
            "Added user message to memory: Tell me about two celebrities born after 1980. \n",
            "=== Calling Function ===\n",
            "Calling function: celebrity_bios with args: {\n",
            "  \"query\": \"celebrities\",\n",
            "  \"filter_key_list\": [\"born\"],\n",
            "  \"filter_value_list\": [1980],\n",
            "  \"filter_operator_list\": [\">\"],\n",
            "  \"filter_condition\": \"and\"\n",
            "}\n",
            "Got output: Rihanna and Cristiano Ronaldo are both well-known celebrities in their respective fields. Rihanna is a successful singer, actress, and businesswoman from Barbados, while Cristiano Ronaldo is a highly accomplished professional footballer from Portugal.\n",
            "========================\n",
            "\n",
            "Rihanna and Cristiano Ronaldo are two celebrities who were born after 1980.\n",
            "\n",
            "Rihanna, born in 1988, is a Barbadian singer, actress, and businesswoman. Known for her distinctive and versatile voice and for her fashionable appearance, she has achieved 14 number-ones and 31 top-ten singles in the US and UK respectively and has won nine Grammy Awards. Her successful business ventures include the luxury fashion house Fenty and the cosmetics brand Fenty Beauty.\n",
            "\n",
            "Cristiano Ronaldo, born in 1985, is a Portuguese professional footballer who plays as a forward for Manchester United and the Portugal\n"
          ]
        }
      ]
    }
  ]
}