{
 "cells": [
  {
   "cell_type": "markdown",
   "id": "4919a254-6095-4e05-ae7d-f6004d1450f3",
   "metadata": {},
   "source": [
    "## GPT-4-Turbo"
   ]
  },
  {
   "cell_type": "code",
   "execution_count": null,
   "id": "73ac828e-3fbf-4caf-a299-e3a64b49d596",
   "metadata": {},
   "outputs": [],
   "source": []
  },
  {
   "cell_type": "code",
   "execution_count": null,
   "id": "cb81e1ff-7bb2-4f61-b771-03485b599659",
   "metadata": {},
   "outputs": [],
   "source": []
  },
  {
   "cell_type": "markdown",
   "id": "e8e31228-e25a-4e0d-b22c-435dd221a189",
   "metadata": {},
   "source": [
    "## GPT-4V 多模态API"
   ]
  },
  {
   "cell_type": "code",
   "execution_count": null,
   "id": "8c02bd66-7989-4494-9db4-96bb67eddc9e",
   "metadata": {},
   "outputs": [],
   "source": []
  },
  {
   "cell_type": "markdown",
   "id": "7d58b308-f925-48c4-897a-e6d17b5e2e0a",
   "metadata": {},
   "source": [
    "## Dall-E-3 Image Generation"
   ]
  },
  {
   "cell_type": "code",
   "execution_count": null,
   "id": "49173846-ba80-4d63-a6aa-78a50c653df0",
   "metadata": {},
   "outputs": [],
   "source": []
  },
  {
   "cell_type": "markdown",
   "id": "623ece62-2ce8-4476-966e-02166864b2dd",
   "metadata": {},
   "source": [
    "## TTS 文转语音"
   ]
  },
  {
   "cell_type": "code",
   "execution_count": null,
   "id": "f76011e7-7714-419b-8955-33c31485002a",
   "metadata": {},
   "outputs": [],
   "source": []
  },
  {
   "cell_type": "code",
   "execution_count": null,
   "id": "fde9e4ba-ba07-4cda-8b9a-0f9f5e379609",
   "metadata": {},
   "outputs": [],
   "source": []
  }
 ],
 "metadata": {
  "kernelspec": {
   "display_name": "Python 3 (ipykernel)",
   "language": "python",
   "name": "python3"
  },
  "language_info": {
   "codemirror_mode": {
    "name": "ipython",
    "version": 3
   },
   "file_extension": ".py",
   "mimetype": "text/x-python",
   "name": "python",
   "nbconvert_exporter": "python",
   "pygments_lexer": "ipython3",
   "version": "3.9.18"
  }
 },
 "nbformat": 4,
 "nbformat_minor": 5
}
